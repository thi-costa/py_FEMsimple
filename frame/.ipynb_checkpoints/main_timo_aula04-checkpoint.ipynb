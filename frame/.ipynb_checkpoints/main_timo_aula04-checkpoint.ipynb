{
 "cells": [
  {
   "cell_type": "code",
   "execution_count": 1,
   "id": "9aa10156-5813-4614-84dd-55ae492f4a98",
   "metadata": {},
   "outputs": [],
   "source": [
    "# Bibliotecas\n",
    "import pandas as pd\n",
    "import numpy as np\n",
    "import numpy.linalg as nplin\n",
    "import scipy.linalg as scilin\n",
    "import sympy as sy\n",
    "from scipy import linalg\n",
    "import matplotlib.pyplot as plt\n",
    "from scipy import linalg\n",
    "import copy\n",
    "import math\n",
    "import frame_two_node as fr_tw\n",
    "from frame_two_node import Frame\n",
    "import time\n",
    "\n",
    "%load_ext autoreload\n",
    "%autoreload 2\n"
   ]
  },
  {
   "cell_type": "code",
   "execution_count": 4,
   "id": "66c98ed2-e489-43e3-b8bf-2ae8024c6515",
   "metadata": {},
   "outputs": [
    {
     "name": "stdout",
     "output_type": "stream",
     "text": [
      "7.468750e+07\n",
      "3.585000e+09\n",
      "1.493750e+09\n"
     ]
    }
   ],
   "source": [
    "E = 2.39e10\n",
    "v = 0.2\n",
    "b = 0.3\n",
    "h = 0.5\n",
    "L1 = 0.75\n",
    "L2 = 5\n",
    "\n",
    "EI = E*(b*h**3/12)\n",
    "EA = E*(b*h)\n",
    "GA = E/(2*(1+v))*(b*h)\n",
    "\n",
    "print(f\"{EI:e}\")\n",
    "print(f\"{EA:e}\")\n",
    "print(f\"{GA:e}\")"
   ]
  },
  {
   "cell_type": "code",
   "execution_count": 10,
   "id": "f12041ac-894e-40bc-a5ff-7a2a7a8a4930",
   "metadata": {},
   "outputs": [
    {
     "data": {
      "text/latex": [
       "$\\displaystyle \\left[\\begin{matrix}Ru_{1}\\\\Rw_{1}\\\\RM_{1}\\\\0\\\\-200\\\\0\\\\Ru_{3}\\\\Rw_{3}\\\\RM_{3}\\end{matrix}\\right]$"
      ],
      "text/plain": [
       "Matrix([\n",
       "[ Ru1],\n",
       "[ Rw1],\n",
       "[ RM1],\n",
       "[   0],\n",
       "[-200],\n",
       "[   0],\n",
       "[ Ru3],\n",
       "[ Rw3],\n",
       "[ RM3]])"
      ]
     },
     "metadata": {},
     "output_type": "display_data"
    },
    {
     "data": {
      "text/latex": [
       "$\\displaystyle \\left[\\begin{matrix}0\\\\0\\\\0\\\\u_{2}\\\\w_{2}\\\\\\theta_{2}\\\\0\\\\0\\\\0\\end{matrix}\\right]$"
      ],
      "text/plain": [
       "Matrix([\n",
       "[     0],\n",
       "[     0],\n",
       "[     0],\n",
       "[    u2],\n",
       "[    w2],\n",
       "[theta2],\n",
       "[     0],\n",
       "[     0],\n",
       "[     0]])"
      ]
     },
     "metadata": {},
     "output_type": "display_data"
    },
    {
     "data": {
      "text/latex": [
       "$\\displaystyle \\left[\\begin{matrix}m_{11}\\\\m_{12}\\\\n_{2}\\end{matrix}\\right]$"
      ],
      "text/plain": [
       "Matrix([\n",
       "[m11],\n",
       "[m12],\n",
       "[ n2]])"
      ]
     },
     "metadata": {},
     "output_type": "display_data"
    },
    {
     "data": {
      "text/latex": [
       "$\\displaystyle \\left[\\begin{matrix}m_{22}\\\\m_{23}\\\\n_{2}\\end{matrix}\\right]$"
      ],
      "text/plain": [
       "Matrix([\n",
       "[m22],\n",
       "[m23],\n",
       "[ n2]])"
      ]
     },
     "metadata": {},
     "output_type": "display_data"
    },
    {
     "data": {
      "text/latex": [
       "$\\displaystyle \\left[\\begin{matrix}\\phi_{11}\\\\\\phi_{12}\\\\\\delta_{1}\\end{matrix}\\right]$"
      ],
      "text/plain": [
       "Matrix([\n",
       "[ phi11],\n",
       "[ phi12],\n",
       "[delta1]])"
      ]
     },
     "metadata": {},
     "output_type": "display_data"
    },
    {
     "data": {
      "text/latex": [
       "$\\displaystyle \\left[\\begin{matrix}\\phi_{22}\\\\\\phi_{23}\\\\\\delta_{2}\\end{matrix}\\right]$"
      ],
      "text/plain": [
       "Matrix([\n",
       "[ phi22],\n",
       "[ phi23],\n",
       "[delta2]])"
      ]
     },
     "metadata": {},
     "output_type": "display_data"
    }
   ],
   "source": [
    "Ru1, Rw1, RM1, Ru3, Rw3, RM3, u2, w2, th2 = sy.symbols(\"Ru1 Rw1 RM1 Ru3 Rw3 RM3 u2 w2 theta2\")\n",
    "P = sy.Matrix([[Ru1],\n",
    "               [Rw1],\n",
    "               [RM1],\n",
    "               [0],\n",
    "               [-200],\n",
    "               [0],\n",
    "               [Ru3],\n",
    "               [Rw3],\n",
    "               [RM3]])\n",
    "display(P)\n",
    "\n",
    "U = sy.Matrix([[0],\n",
    "               [0],\n",
    "               [0],\n",
    "               [u2],\n",
    "               [w2],\n",
    "               [th2],\n",
    "               [0],\n",
    "               [0],\n",
    "               [0]])\n",
    "display(U)\n",
    "\n",
    "\n",
    "m11, m12, n1, m22, m23, n2, phi11, phi12, d1, phi22, phi23, d2 = sy.symbols(\"m11 m12 n2 m22 m23 n2 phi11 phi12 delta1 phi22 phi23 delta2\")\n",
    "M1 = sy.Matrix([[m11],\n",
    "                [m12],\n",
    "                [n1]])\n",
    "M2 = sy.Matrix([[m22],\n",
    "                [m23],\n",
    "                [n2]])\n",
    "display(M1)\n",
    "display(M2)\n",
    "\n",
    "Phi1 = sy.Matrix([[phi11],\n",
    "                  [phi12],\n",
    "                  [d1]])\n",
    "Phi2 = sy.Matrix([[phi22],\n",
    "                  [phi23],\n",
    "                  [d2]])\n",
    "display(Phi1)\n",
    "display(Phi2)\n"
   ]
  },
  {
   "cell_type": "code",
   "execution_count": 20,
   "id": "e1004a2a-33ff-460a-9da8-c2688ec8f345",
   "metadata": {},
   "outputs": [
    {
     "data": {
      "text/latex": [
       "$\\displaystyle \\left[\\begin{matrix}0.0 & -1.33333333333333 & 1 & 0.0 & 1.33333333333333 & 0 & 0 & 0 & 0\\\\0.0 & -1.33333333333333 & 0 & 0.0 & 1.33333333333333 & 1 & 0 & 0 & 0\\\\-1 & 0 & 0 & 1 & 0 & 0 & 0 & 0 & 0\\end{matrix}\\right]$"
      ],
      "text/plain": [
       "Matrix([\n",
       "[0.0, -1.33333333333333, 1, 0.0, 1.33333333333333, 0, 0, 0, 0],\n",
       "[0.0, -1.33333333333333, 0, 0.0, 1.33333333333333, 1, 0, 0, 0],\n",
       "[ -1,                 0, 0,   1,                0, 0, 0, 0, 0]])"
      ]
     },
     "metadata": {},
     "output_type": "display_data"
    },
    {
     "data": {
      "text/latex": [
       "$\\displaystyle \\left[\\begin{matrix}3.34728033472803 \\cdot 10^{-9} & -1.67364016736402 \\cdot 10^{-9} & 0\\\\-1.67364016736402 \\cdot 10^{-9} & 3.34728033472803 \\cdot 10^{-9} & 0\\\\0 & 0 & 2.09205020920502 \\cdot 10^{-10}\\end{matrix}\\right]$"
      ],
      "text/plain": [
       "Matrix([\n",
       "[ 3.34728033472803e-9, -1.67364016736402e-9,                    0],\n",
       "[-1.67364016736402e-9,  3.34728033472803e-9,                    0],\n",
       "[                   0,                    0, 2.09205020920502e-10]])"
      ]
     },
     "metadata": {},
     "output_type": "display_data"
    },
    {
     "data": {
      "text/latex": [
       "$\\displaystyle \\left[\\begin{matrix}8.92608089260809 \\cdot 10^{-10} & 8.92608089260809 \\cdot 10^{-10} & 0\\\\8.92608089260809 \\cdot 10^{-10} & 8.92608089260809 \\cdot 10^{-10} & 0\\\\0 & 0 & 0\\end{matrix}\\right]$"
      ],
      "text/plain": [
       "Matrix([\n",
       "[8.92608089260809e-10, 8.92608089260809e-10, 0],\n",
       "[8.92608089260809e-10, 8.92608089260809e-10, 0],\n",
       "[                   0,                    0, 0]])"
      ]
     },
     "metadata": {},
     "output_type": "display_data"
    }
   ],
   "source": [
    "# elemento 1\n",
    "s = 0\n",
    "c = 1\n",
    "L1 = 0.75\n",
    "B1 = sy.Matrix([[s/L1, -c/L1, 1, -s/L1, c/L1, 0, 0, 0, 0],\n",
    "                [s/L1, -c/L1, 0, -s/L1, c/L1, 1, 0, 0, 0],\n",
    "                [-c, -s, 0, c, s, 0, 0, 0, 0]])\n",
    "display(B1)\n",
    "\n",
    "Ffb1 = sy.Matrix([[L1/(3*EI), -L1/(6*EI), 0],\n",
    "                  [-L1/(6*EI), L1/(3*EI), 0],\n",
    "                  [0, 0, L1/EA]])\n",
    "\n",
    "display(Ffb1)\n",
    "\n",
    "Fsb1 = sy.Matrix([[1/(L1*GA), 1/(L1*GA), 0],\n",
    "                  [1/(L1*GA), 1/(L1*GA), 0],\n",
    "                  [0, 0, 0]])\n",
    "display(Fsb1)\n",
    "\n"
   ]
  },
  {
   "cell_type": "code",
   "execution_count": 22,
   "id": "322bcac9-6903-4497-98c6-2b34be02a5fe",
   "metadata": {},
   "outputs": [
    {
     "data": {
      "text/latex": [
       "$\\displaystyle \\left[\\begin{matrix}0 & 0 & 0 & 0.0 & -0.2 & 1 & 0.0 & 0.2 & 0\\\\0 & 0 & 0 & 0.0 & -0.2 & 0 & 0.0 & 0.2 & 1\\\\0 & 0 & 0 & -1 & 0 & 0 & 1 & 0 & 0\\end{matrix}\\right]$"
      ],
      "text/plain": [
       "Matrix([\n",
       "[0, 0, 0, 0.0, -0.2, 1, 0.0, 0.2, 0],\n",
       "[0, 0, 0, 0.0, -0.2, 0, 0.0, 0.2, 1],\n",
       "[0, 0, 0,  -1,    0, 0,   1,   0, 0]])"
      ]
     },
     "metadata": {},
     "output_type": "display_data"
    },
    {
     "data": {
      "text/latex": [
       "$\\displaystyle \\left[\\begin{matrix}2.23152022315202 \\cdot 10^{-8} & -1.11576011157601 \\cdot 10^{-8} & 0\\\\-1.11576011157601 \\cdot 10^{-8} & 2.23152022315202 \\cdot 10^{-8} & 0\\\\0 & 0 & 1.39470013947001 \\cdot 10^{-9}\\end{matrix}\\right]$"
      ],
      "text/plain": [
       "Matrix([\n",
       "[ 2.23152022315202e-8, -1.11576011157601e-8,                   0],\n",
       "[-1.11576011157601e-8,  2.23152022315202e-8,                   0],\n",
       "[                   0,                    0, 1.39470013947001e-9]])"
      ]
     },
     "metadata": {},
     "output_type": "display_data"
    },
    {
     "data": {
      "text/latex": [
       "$\\displaystyle \\left[\\begin{matrix}1.33891213389121 \\cdot 10^{-10} & 1.33891213389121 \\cdot 10^{-10} & 0\\\\1.33891213389121 \\cdot 10^{-10} & 1.33891213389121 \\cdot 10^{-10} & 0\\\\0 & 0 & 0\\end{matrix}\\right]$"
      ],
      "text/plain": [
       "Matrix([\n",
       "[1.33891213389121e-10, 1.33891213389121e-10, 0],\n",
       "[1.33891213389121e-10, 1.33891213389121e-10, 0],\n",
       "[                   0,                    0, 0]])"
      ]
     },
     "metadata": {},
     "output_type": "display_data"
    }
   ],
   "source": [
    "# elemento 2\n",
    "s = 0\n",
    "c = 1\n",
    "L2 = 5\n",
    "B2 = sy.Matrix([[0, 0, 0, s/L2, -c/L2, 1, -s/L2, c/L2, 0],\n",
    "                [0, 0, 0, s/L2, -c/L2, 0, -s/L2, c/L2, 1],\n",
    "                [0, 0, 0, -c, -s, 0, c, s, 0]])\n",
    "display(B2)\n",
    "\n",
    "Ffb2 = sy.Matrix([[L2/(3*EI), -L2/(6*EI), 0],\n",
    "                  [-L2/(6*EI), L2/(3*EI), 0],\n",
    "                  [0, 0, L2/EA]])\n",
    "\n",
    "display(Ffb2)\n",
    "\n",
    "Fsb2 = sy.Matrix([[1/(L2*GA), 1/(L2*GA), 0],\n",
    "                  [1/(L2*GA), 1/(L2*GA), 0],\n",
    "                  [0, 0, 0]])\n",
    "display(Fsb2)\n",
    "\n"
   ]
  },
  {
   "cell_type": "code",
   "execution_count": 24,
   "id": "c2f21926-d887-4145-aaf4-174280a64c4d",
   "metadata": {},
   "outputs": [
    {
     "data": {
      "text/latex": [
       "$\\displaystyle \\left[\\begin{matrix}\\phi_{11} - 1.33333333333333 w_{2}\\\\\\phi_{12} - \\theta_{2} - 1.33333333333333 w_{2}\\\\\\delta_{1} - u_{2}\\end{matrix}\\right]$"
      ],
      "text/plain": [
       "Matrix([\n",
       "[         phi11 - 1.33333333333333*w2],\n",
       "[phi12 - theta2 - 1.33333333333333*w2],\n",
       "[                         delta1 - u2]])"
      ]
     },
     "metadata": {},
     "output_type": "display_data"
    },
    {
     "data": {
      "text/latex": [
       "$\\displaystyle \\left[\\begin{matrix}\\phi_{22} - \\theta_{2} + 0.2 w_{2}\\\\\\phi_{23} + 0.2 w_{2}\\\\\\delta_{2} + u_{2}\\end{matrix}\\right]$"
      ],
      "text/plain": [
       "Matrix([\n",
       "[phi22 - theta2 + 0.2*w2],\n",
       "[         phi23 + 0.2*w2],\n",
       "[            delta2 + u2]])"
      ]
     },
     "metadata": {},
     "output_type": "display_data"
    }
   ],
   "source": [
    "# EC\n",
    "EC1 = Phi1 - B1*U\n",
    "display(EC1)\n",
    "\n",
    "EC2 = Phi2 - B2*U\n",
    "display(EC2)"
   ]
  },
  {
   "cell_type": "code",
   "execution_count": null,
   "id": "1f0c1e2b-b718-4b2f-ac95-2e3d4a2a7c1b",
   "metadata": {},
   "outputs": [],
   "source": []
  },
  {
   "cell_type": "code",
   "execution_count": null,
   "id": "32fb377d-8544-440b-a6e5-6a280214805d",
   "metadata": {},
   "outputs": [],
   "source": []
  }
 ],
 "metadata": {
  "kernelspec": {
   "display_name": "Python 3",
   "language": "python",
   "name": "python3"
  },
  "language_info": {
   "codemirror_mode": {
    "name": "ipython",
    "version": 3
   },
   "file_extension": ".py",
   "mimetype": "text/x-python",
   "name": "python",
   "nbconvert_exporter": "python",
   "pygments_lexer": "ipython3",
   "version": "3.8.8"
  }
 },
 "nbformat": 4,
 "nbformat_minor": 5
}
