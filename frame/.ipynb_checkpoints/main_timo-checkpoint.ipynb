{
 "cells": [
  {
   "cell_type": "code",
   "execution_count": 1,
   "id": "9aa10156-5813-4614-84dd-55ae492f4a98",
   "metadata": {},
   "outputs": [],
   "source": [
    "# Bibliotecas\n",
    "import pandas as pd\n",
    "import numpy as np\n",
    "import numpy.linalg as nplin\n",
    "import scipy.linalg as scilin\n",
    "import sympy as sy\n",
    "from scipy import linalg\n",
    "import matplotlib.pyplot as plt\n",
    "from scipy import linalg\n",
    "import copy\n",
    "import math\n",
    "import frame_two_node as fr_tw\n",
    "from frame_two_node import Frame\n",
    "import time\n",
    "\n",
    "%load_ext autoreload\n",
    "%autoreload 2\n"
   ]
  },
  {
   "cell_type": "code",
   "execution_count": 2,
   "id": "66c98ed2-e489-43e3-b8bf-2ae8024c6515",
   "metadata": {},
   "outputs": [
    {
     "name": "stdout",
     "output_type": "stream",
     "text": [
      "3.200000e+07\n",
      "2.400000e+09\n",
      "1.000000e+09\n"
     ]
    }
   ],
   "source": [
    "E = 20e9\n",
    "v = 0.2\n",
    "b = 0.3\n",
    "h = 0.4\n",
    "L1 = 2\n",
    "L2 = 2\n",
    "L3 = 2\n",
    "L4 = 2\n",
    "L5 = 3.5\n",
    "L6 = 3.5\n",
    "\n",
    "\n",
    "EI = E*(b*h**3/12)\n",
    "EA = E*(b*h)\n",
    "GA = E/(2*(1+v))*(b*h)\n",
    "\n",
    "print(f\"{EI:e}\")\n",
    "print(f\"{EA:e}\")\n",
    "print(f\"{GA:e}\")"
   ]
  },
  {
   "cell_type": "code",
   "execution_count": 3,
   "id": "f12041ac-894e-40bc-a5ff-7a2a7a8a4930",
   "metadata": {},
   "outputs": [
    {
     "data": {
      "text/latex": [
       "$\\displaystyle \\left[\\begin{matrix}Ru_{1}\\\\Rw_{1}\\\\RM_{1}\\\\Ru_{2}\\\\Rw_{2}\\\\RM_{2}\\\\0\\\\0\\\\0\\\\0\\\\0\\\\0\\\\0\\\\0\\\\0\\\\0\\\\0\\\\0\\end{matrix}\\right]$"
      ],
      "text/plain": [
       "Matrix([\n",
       "[Ru1],\n",
       "[Rw1],\n",
       "[RM1],\n",
       "[Ru2],\n",
       "[Rw2],\n",
       "[RM2],\n",
       "[  0],\n",
       "[  0],\n",
       "[  0],\n",
       "[  0],\n",
       "[  0],\n",
       "[  0],\n",
       "[  0],\n",
       "[  0],\n",
       "[  0],\n",
       "[  0],\n",
       "[  0],\n",
       "[  0]])"
      ]
     },
     "metadata": {},
     "output_type": "display_data"
    },
    {
     "data": {
      "text/latex": [
       "$\\displaystyle \\left[\\begin{matrix}0\\\\0\\\\0\\\\0\\\\0\\\\0\\\\u_{3}\\\\w_{3}\\\\\\theta_{3}\\\\u_{4}\\\\w_{4}\\\\\\theta_{4}\\\\u_{5}\\\\w_{5}\\\\\\theta_{5}\\\\u_{6}\\\\w_{6}\\\\\\theta_{6}\\end{matrix}\\right]$"
      ],
      "text/plain": [
       "Matrix([\n",
       "[     0],\n",
       "[     0],\n",
       "[     0],\n",
       "[     0],\n",
       "[     0],\n",
       "[     0],\n",
       "[    u3],\n",
       "[    w3],\n",
       "[theta3],\n",
       "[    u4],\n",
       "[    w4],\n",
       "[theta4],\n",
       "[    u5],\n",
       "[    w5],\n",
       "[theta5],\n",
       "[    u6],\n",
       "[    w6],\n",
       "[theta6]])"
      ]
     },
     "metadata": {},
     "output_type": "display_data"
    },
    {
     "data": {
      "text/latex": [
       "$\\displaystyle \\left[\\begin{matrix}m_{11}\\\\m_{12}\\\\n_{2}\\end{matrix}\\right]$"
      ],
      "text/plain": [
       "Matrix([\n",
       "[m11],\n",
       "[m12],\n",
       "[ n2]])"
      ]
     },
     "metadata": {},
     "output_type": "display_data"
    },
    {
     "data": {
      "text/latex": [
       "$\\displaystyle \\left[\\begin{matrix}m_{22}\\\\m_{23}\\\\n_{2}\\end{matrix}\\right]$"
      ],
      "text/plain": [
       "Matrix([\n",
       "[m22],\n",
       "[m23],\n",
       "[ n2]])"
      ]
     },
     "metadata": {},
     "output_type": "display_data"
    },
    {
     "data": {
      "text/latex": [
       "$\\displaystyle \\left[\\begin{matrix}\\phi_{11}\\\\\\phi_{12}\\\\\\delta_{1}\\end{matrix}\\right]$"
      ],
      "text/plain": [
       "Matrix([\n",
       "[ phi11],\n",
       "[ phi12],\n",
       "[delta1]])"
      ]
     },
     "metadata": {},
     "output_type": "display_data"
    },
    {
     "data": {
      "text/latex": [
       "$\\displaystyle \\left[\\begin{matrix}\\phi_{22}\\\\\\phi_{23}\\\\\\delta_{2}\\end{matrix}\\right]$"
      ],
      "text/plain": [
       "Matrix([\n",
       "[ phi22],\n",
       "[ phi23],\n",
       "[delta2]])"
      ]
     },
     "metadata": {},
     "output_type": "display_data"
    },
    {
     "data": {
      "text/latex": [
       "$\\displaystyle \\left[\\begin{matrix}\\phi_{66}\\\\\\phi_{67}\\\\\\delta_{6}\\end{matrix}\\right]$"
      ],
      "text/plain": [
       "Matrix([\n",
       "[ phi66],\n",
       "[ phi67],\n",
       "[delta6]])"
      ]
     },
     "metadata": {},
     "output_type": "display_data"
    }
   ],
   "source": [
    "Ru1, Rw1, RM1, Ru2, Rw2, RM2 = sy.symbols(\"Ru1 Rw1 RM1 Ru2 Rw2 RM2\")\n",
    "u3, w3, th3, u4, w4, th4, u5, w5, th5, u6, w6, th6 = sy.symbols(\"u3 w3 theta3 u4 w4 theta4 u5 w5 theta5 u6 w6 theta6\")\n",
    "P = sy.Matrix([[Ru1], # node 1\n",
    "               [Rw1],\n",
    "               [RM1],\n",
    "               [Ru2], # node 2\n",
    "               [Rw2],\n",
    "               [RM2],\n",
    "               [0], # node 3\n",
    "               [0],\n",
    "               [0],\n",
    "               [0], # node 4\n",
    "               [0],\n",
    "               [0],\n",
    "               [0], # node 5\n",
    "               [0],\n",
    "               [0],\n",
    "               [0], # node 6\n",
    "               [0],\n",
    "               [0],              ])\n",
    "display(P)\n",
    "\n",
    "U = sy.Matrix([[0],\n",
    "               [0],\n",
    "               [0],\n",
    "               [0],\n",
    "               [0],\n",
    "               [0],\n",
    "               [u3],\n",
    "               [w3],\n",
    "               [th3],\n",
    "               [u4],\n",
    "               [w4],\n",
    "               [th4],\n",
    "               [u5],\n",
    "               [w5],\n",
    "               [th5],\n",
    "               [u6],\n",
    "               [w6],\n",
    "               [th6]])\n",
    "display(U)\n",
    "\n",
    "\n",
    "m11, m12, n1, m22, m23, n2, m33, m34, n3, m44, m45, n4, m55, m56, n5, m66, m67, n6 = sy.symbols(\"m11 m12 n2 m22 m23 n2 m33 m34 n3 m44 m45 n4 m55 m56 n5 m66 m67 n6\")\n",
    "phi11, phi12, d1, phi22, phi23, d2, phi33, phi34, d3, phi44, phi45, d4, phi55, phi56, d5, phi66, phi67, d6 = sy.symbols(\n",
    "    \"phi11 phi12 delta1 phi22 phi23 delta2 phi33 phi34 delta3 phi44 phi45 delta4 phi55 phi56 delta5 phi66 phi67 delta6\")\n",
    "\n",
    "M1 = sy.Matrix([[m11],\n",
    "                [m12],\n",
    "                [n1]])\n",
    "M2 = sy.Matrix([[m22],\n",
    "                [m23],\n",
    "                [n2]])\n",
    "M3 = sy.Matrix([[m33],\n",
    "                [m34],\n",
    "                [n3]])\n",
    "M4 = sy.Matrix([[m44],\n",
    "                [m45],\n",
    "                [n4]])\n",
    "M5 = sy.Matrix([[m55],\n",
    "                [m56],\n",
    "                [n5]])\n",
    "M6 = sy.Matrix([[m66],\n",
    "                [m67],\n",
    "                [n6]])\n",
    "display(M1)\n",
    "display(M2)\n",
    "\n",
    "Phi1 = sy.Matrix([[phi11],\n",
    "                  [phi12],\n",
    "                  [d1]])\n",
    "Phi2 = sy.Matrix([[phi22],\n",
    "                  [phi23],\n",
    "                  [d2]])\n",
    "Phi3 = sy.Matrix([[phi33],\n",
    "                  [phi34],\n",
    "                  [d3]])\n",
    "Phi4 = sy.Matrix([[phi44],\n",
    "                  [phi45],\n",
    "                  [d4]])\n",
    "Phi5 = sy.Matrix([[phi55],\n",
    "                  [phi56],\n",
    "                  [d5]])\n",
    "Phi6 = sy.Matrix([[phi66],\n",
    "                  [phi67],\n",
    "                  [d6]])\n",
    "display(Phi1)\n",
    "display(Phi2)\n",
    "display(Phi6)"
   ]
  },
  {
   "cell_type": "code",
   "execution_count": 4,
   "id": "e1004a2a-33ff-460a-9da8-c2688ec8f345",
   "metadata": {},
   "outputs": [
    {
     "data": {
      "text/latex": [
       "$\\displaystyle \\left[\\begin{array}{cccccccccccccccccc}0.5 & 0.0 & 1 & 0.0 & 0.0 & 0.0 & -0.5 & 0.0 & 0 & 0.0 & 0.0 & 0.0 & 0.0 & 0.0 & 0.0 & 0.0 & 0.0 & 0.0\\\\0.5 & 0.0 & 0 & 0.0 & 0.0 & 0.0 & -0.5 & 0.0 & 1 & 0.0 & 0.0 & 0.0 & 0.0 & 0.0 & 0.0 & 0.0 & 0.0 & 0.0\\\\0 & -1 & 0 & 0.0 & 0.0 & 0.0 & 0 & 1 & 0 & 0.0 & 0.0 & 0.0 & 0.0 & 0.0 & 0.0 & 0.0 & 0.0 & 0.0\\end{array}\\right]$"
      ],
      "text/plain": [
       "Matrix([\n",
       "[0.5, 0.0, 1, 0.0, 0.0, 0.0, -0.5, 0.0, 0, 0.0, 0.0, 0.0, 0.0, 0.0, 0.0, 0.0, 0.0, 0.0],\n",
       "[0.5, 0.0, 0, 0.0, 0.0, 0.0, -0.5, 0.0, 1, 0.0, 0.0, 0.0, 0.0, 0.0, 0.0, 0.0, 0.0, 0.0],\n",
       "[  0,  -1, 0, 0.0, 0.0, 0.0,    0,   1, 0, 0.0, 0.0, 0.0, 0.0, 0.0, 0.0, 0.0, 0.0, 0.0]])"
      ]
     },
     "metadata": {},
     "output_type": "display_data"
    },
    {
     "data": {
      "text/latex": [
       "$\\displaystyle \\left[\\begin{matrix}2.08333333333333 \\cdot 10^{-8} & -1.04166666666667 \\cdot 10^{-8} & 0\\\\-1.04166666666667 \\cdot 10^{-8} & 2.08333333333333 \\cdot 10^{-8} & 0\\\\0 & 0 & 8.33333333333333 \\cdot 10^{-10}\\end{matrix}\\right]$"
      ],
      "text/plain": [
       "Matrix([\n",
       "[ 2.08333333333333e-8, -1.04166666666667e-8,                    0],\n",
       "[-1.04166666666667e-8,  2.08333333333333e-8,                    0],\n",
       "[                   0,                    0, 8.33333333333333e-10]])"
      ]
     },
     "metadata": {},
     "output_type": "display_data"
    },
    {
     "data": {
      "text/latex": [
       "$\\displaystyle \\left[\\begin{matrix}5.0 \\cdot 10^{-10} & 5.0 \\cdot 10^{-10} & 0\\\\5.0 \\cdot 10^{-10} & 5.0 \\cdot 10^{-10} & 0\\\\0 & 0 & 0\\end{matrix}\\right]$"
      ],
      "text/plain": [
       "Matrix([\n",
       "[5.0e-10, 5.0e-10, 0],\n",
       "[5.0e-10, 5.0e-10, 0],\n",
       "[      0,       0, 0]])"
      ]
     },
     "metadata": {},
     "output_type": "display_data"
    }
   ],
   "source": [
    "# elemento 1\n",
    "s = 1\n",
    "c = 0\n",
    "L1 = 2\n",
    "# Matriz B é 3x18\n",
    "                # u1, w1, th1, u2, w2, th2, u3, w3, th3, u4, w4, th4, u5, w5, th5, u6, w6, th6\n",
    "\n",
    "no_i = 1\n",
    "no_j = 3\n",
    "#B1_ = sy.Matrix([[s/L1, -c/L1, 1, 0, 0, 0, -s/L1, c/L1, 0, 0, 0, 0, 0, 0, 0, 0, 0, 0], # u\n",
    "#                [s/L1, -c/L1, 0, 0, 0, 0, -s/L1, c/L1, 1, 0, 0, 0, 0, 0, 0, 0, 0, 0], # w\n",
    "#                [-c, -s, 0, 0, 0, 0,  c, s, 0, 0, 0, 0, 0, 0, 0, 0, 0, 0]]) # Theta\n",
    "B1 = sy.Matrix(np.zeros((3, 18)))\n",
    "B1[0, (no_i-1)*3], B1[0, (no_i-1)*3+1], B1[0, (no_i-1)*3+2] = s/L1, -c/L1, 1\n",
    "B1[1, (no_i-1)*3], B1[1, (no_i-1)*3+1], B1[1, (no_i-1)*3+2] = s/L1, -c/L1, 0\n",
    "B1[2, (no_i-1)*3], B1[2, (no_i-1)*3+1], B1[2, (no_i-1)*3+2] = -c, -s, 0\n",
    "\n",
    "B1[0, (no_j-1)*3], B1[0, (no_j-1)*3+1], B1[0, (no_j-1)*3+2] = -s/L1, c/L1, 0\n",
    "B1[1, (no_j-1)*3], B1[1, (no_j-1)*3+1], B1[1, (no_j-1)*3+2] = -s/L1, c/L1, 1\n",
    "B1[2, (no_j-1)*3], B1[2, (no_j-1)*3+1], B1[2, (no_j-1)*3+2] = c, s, 0\n",
    "\n",
    "display(B1)\n",
    "#display(B1_-B1)\n",
    "\n",
    "\n",
    "Ffb1 = sy.Matrix([[L1/(3*EI), -L1/(6*EI), 0],\n",
    "                  [-L1/(6*EI), L1/(3*EI), 0],\n",
    "                  [0, 0, L1/EA]])\n",
    "\n",
    "display(Ffb1)\n",
    "\n",
    "Fsb1 = sy.Matrix([[1/(L1*GA), 1/(L1*GA), 0],\n",
    "                  [1/(L1*GA), 1/(L1*GA), 0],\n",
    "                  [0, 0, 0]])\n",
    "display(Fsb1)\n",
    "\n"
   ]
  },
  {
   "cell_type": "code",
   "execution_count": 5,
   "id": "31582f2f-ef71-4cd4-a55f-57b95f148b03",
   "metadata": {},
   "outputs": [
    {
     "data": {
      "text/latex": [
       "$\\displaystyle \\left[\\begin{array}{cccccccccccccccccc}0.0 & 0.0 & 0.0 & 0.5 & 0.0 & 1 & 0.0 & 0.0 & 0.0 & -0.5 & 0.0 & 0 & 0.0 & 0.0 & 0.0 & 0.0 & 0.0 & 0.0\\\\0.0 & 0.0 & 0.0 & 0.5 & 0.0 & 0 & 0.0 & 0.0 & 0.0 & -0.5 & 0.0 & 1 & 0.0 & 0.0 & 0.0 & 0.0 & 0.0 & 0.0\\\\0.0 & 0.0 & 0.0 & 0 & -1 & 0 & 0.0 & 0.0 & 0.0 & 0 & 1 & 0 & 0.0 & 0.0 & 0.0 & 0.0 & 0.0 & 0.0\\end{array}\\right]$"
      ],
      "text/plain": [
       "Matrix([\n",
       "[0.0, 0.0, 0.0, 0.5, 0.0, 1, 0.0, 0.0, 0.0, -0.5, 0.0, 0, 0.0, 0.0, 0.0, 0.0, 0.0, 0.0],\n",
       "[0.0, 0.0, 0.0, 0.5, 0.0, 0, 0.0, 0.0, 0.0, -0.5, 0.0, 1, 0.0, 0.0, 0.0, 0.0, 0.0, 0.0],\n",
       "[0.0, 0.0, 0.0,   0,  -1, 0, 0.0, 0.0, 0.0,    0,   1, 0, 0.0, 0.0, 0.0, 0.0, 0.0, 0.0]])"
      ]
     },
     "metadata": {},
     "output_type": "display_data"
    },
    {
     "data": {
      "text/latex": [
       "$\\displaystyle \\left[\\begin{matrix}2.08333333333333 \\cdot 10^{-8} & -1.04166666666667 \\cdot 10^{-8} & 0\\\\-1.04166666666667 \\cdot 10^{-8} & 2.08333333333333 \\cdot 10^{-8} & 0\\\\0 & 0 & 8.33333333333333 \\cdot 10^{-10}\\end{matrix}\\right]$"
      ],
      "text/plain": [
       "Matrix([\n",
       "[ 2.08333333333333e-8, -1.04166666666667e-8,                    0],\n",
       "[-1.04166666666667e-8,  2.08333333333333e-8,                    0],\n",
       "[                   0,                    0, 8.33333333333333e-10]])"
      ]
     },
     "metadata": {},
     "output_type": "display_data"
    },
    {
     "data": {
      "text/latex": [
       "$\\displaystyle \\left[\\begin{matrix}5.0 \\cdot 10^{-10} & 5.0 \\cdot 10^{-10} & 0\\\\5.0 \\cdot 10^{-10} & 5.0 \\cdot 10^{-10} & 0\\\\0 & 0 & 0\\end{matrix}\\right]$"
      ],
      "text/plain": [
       "Matrix([\n",
       "[5.0e-10, 5.0e-10, 0],\n",
       "[5.0e-10, 5.0e-10, 0],\n",
       "[      0,       0, 0]])"
      ]
     },
     "metadata": {},
     "output_type": "display_data"
    }
   ],
   "source": [
    "# elemento 2\n",
    "s = 1\n",
    "c = 0\n",
    "L2 = 2\n",
    "# Matriz B é 3x18\n",
    "                # u1, w1, th1, u2, w2, th2, u3, w3, th3, u4, w4, th4, u5, w5, th5, u6, w6, th6\n",
    "\n",
    "no_i = 2\n",
    "no_j = 4\n",
    "#B1 = sy.Matrix([[s/L1, -c/L1, 1, 0, 0, 0, -s/L1, c/L1, 0, 0, 0, 0, 0, 0, 0, 0, 0, 0], # u\n",
    "#                [s/L1, -c/L1, 0, 0, 0, 0, -s/L1, c/L1, 1, 0, 0, 0, 0, 0, 0, 0, 0, 0], # w\n",
    "#                [-c, -s, 0, 0, 0, 0,  c, s, 0, 0, 0, 0, 0, 0, 0, 0, 0, 0]]) # Theta\n",
    "B2 = sy.Matrix(np.zeros((3, 18)))\n",
    "B2[0, (no_i-1)*3], B2[0, (no_i-1)*3+1], B2[0, (no_i-1)*3+2] = s/L2, -c/L2, 1\n",
    "B2[1, (no_i-1)*3], B2[1, (no_i-1)*3+1], B2[1, (no_i-1)*3+2] = s/L2, -c/L2, 0\n",
    "B2[2, (no_i-1)*3], B2[2, (no_i-1)*3+1], B2[2, (no_i-1)*3+2] = -c, -s, 0\n",
    "\n",
    "B2[0, (no_j-1)*3], B2[0, (no_j-1)*3+1], B2[0, (no_j-1)*3+2] = -s/L2, c/L2, 0\n",
    "B2[1, (no_j-1)*3], B2[1, (no_j-1)*3+1], B2[1, (no_j-1)*3+2] = -s/L2, c/L2, 1\n",
    "B2[2, (no_j-1)*3], B2[2, (no_j-1)*3+1], B2[2, (no_j-1)*3+2] = c, s, 0\n",
    "\n",
    "display(B2)\n",
    "\n",
    "\n",
    "Ffb2 = sy.Matrix([[L2/(3*EI), -L2/(6*EI), 0],\n",
    "                  [-L2/(6*EI), L2/(3*EI), 0],\n",
    "                  [0, 0, L2/EA]])\n",
    "\n",
    "display(Ffb2)\n",
    "\n",
    "Fsb2 = sy.Matrix([[1/(L2*GA), 1/(L2*GA), 0],\n",
    "                  [1/(L2*GA), 1/(L2*GA), 0],\n",
    "                  [0, 0, 0]])\n",
    "display(Fsb2)\n",
    "\n"
   ]
  },
  {
   "cell_type": "code",
   "execution_count": 6,
   "id": "eac548ad-fbcd-495f-9309-5fea0bc665c0",
   "metadata": {},
   "outputs": [
    {
     "data": {
      "text/latex": [
       "$\\displaystyle \\left[\\begin{array}{cccccccccccccccccc}0.0 & 0.0 & 0.0 & 0.0 & 0.0 & 0.0 & 0.5 & 0.0 & 1 & 0.0 & 0.0 & 0.0 & -0.5 & 0.0 & 0 & 0.0 & 0.0 & 0.0\\\\0.0 & 0.0 & 0.0 & 0.0 & 0.0 & 0.0 & 0.5 & 0.0 & 0 & 0.0 & 0.0 & 0.0 & -0.5 & 0.0 & 1 & 0.0 & 0.0 & 0.0\\\\0.0 & 0.0 & 0.0 & 0.0 & 0.0 & 0.0 & 0 & -1 & 0 & 0.0 & 0.0 & 0.0 & 0 & 1 & 0 & 0.0 & 0.0 & 0.0\\end{array}\\right]$"
      ],
      "text/plain": [
       "Matrix([\n",
       "[0.0, 0.0, 0.0, 0.0, 0.0, 0.0, 0.5, 0.0, 1, 0.0, 0.0, 0.0, -0.5, 0.0, 0, 0.0, 0.0, 0.0],\n",
       "[0.0, 0.0, 0.0, 0.0, 0.0, 0.0, 0.5, 0.0, 0, 0.0, 0.0, 0.0, -0.5, 0.0, 1, 0.0, 0.0, 0.0],\n",
       "[0.0, 0.0, 0.0, 0.0, 0.0, 0.0,   0,  -1, 0, 0.0, 0.0, 0.0,    0,   1, 0, 0.0, 0.0, 0.0]])"
      ]
     },
     "metadata": {},
     "output_type": "display_data"
    },
    {
     "data": {
      "text/latex": [
       "$\\displaystyle \\left[\\begin{matrix}2.08333333333333 \\cdot 10^{-8} & -1.04166666666667 \\cdot 10^{-8} & 0\\\\-1.04166666666667 \\cdot 10^{-8} & 2.08333333333333 \\cdot 10^{-8} & 0\\\\0 & 0 & 8.33333333333333 \\cdot 10^{-10}\\end{matrix}\\right]$"
      ],
      "text/plain": [
       "Matrix([\n",
       "[ 2.08333333333333e-8, -1.04166666666667e-8,                    0],\n",
       "[-1.04166666666667e-8,  2.08333333333333e-8,                    0],\n",
       "[                   0,                    0, 8.33333333333333e-10]])"
      ]
     },
     "metadata": {},
     "output_type": "display_data"
    },
    {
     "data": {
      "text/latex": [
       "$\\displaystyle \\left[\\begin{matrix}5.0 \\cdot 10^{-10} & 5.0 \\cdot 10^{-10} & 0\\\\5.0 \\cdot 10^{-10} & 5.0 \\cdot 10^{-10} & 0\\\\0 & 0 & 0\\end{matrix}\\right]$"
      ],
      "text/plain": [
       "Matrix([\n",
       "[5.0e-10, 5.0e-10, 0],\n",
       "[5.0e-10, 5.0e-10, 0],\n",
       "[      0,       0, 0]])"
      ]
     },
     "metadata": {},
     "output_type": "display_data"
    }
   ],
   "source": [
    "# elemento 3\n",
    "s = 1\n",
    "c = 0\n",
    "L3 = 2\n",
    "# Matriz B é 3x18\n",
    "                # u1, w1, th1, u2, w2, th2, u3, w3, th3, u4, w4, th4, u5, w5, th5, u6, w6, th6\n",
    "\n",
    "no_i = 3\n",
    "no_j = 5\n",
    "#B1 = sy.Matrix([[s/L1, -c/L1, 1, 0, 0, 0, -s/L1, c/L1, 0, 0, 0, 0, 0, 0, 0, 0, 0, 0], # u\n",
    "#                [s/L1, -c/L1, 0, 0, 0, 0, -s/L1, c/L1, 1, 0, 0, 0, 0, 0, 0, 0, 0, 0], # w\n",
    "#                [-c, -s, 0, 0, 0, 0,  c, s, 0, 0, 0, 0, 0, 0, 0, 0, 0, 0]]) # Theta\n",
    "B3 = sy.Matrix(np.zeros((3, 18)))\n",
    "B3[0, (no_i-1)*3], B3[0, (no_i-1)*3+1], B3[0, (no_i-1)*3+2] = s/L3, -c/L3, 1\n",
    "B3[1, (no_i-1)*3], B3[1, (no_i-1)*3+1], B3[1, (no_i-1)*3+2] = s/L3, -c/L3, 0\n",
    "B3[2, (no_i-1)*3], B3[2, (no_i-1)*3+1], B3[2, (no_i-1)*3+2] = -c, -s, 0\n",
    "\n",
    "B3[0, (no_j-1)*3], B3[0, (no_j-1)*3+1], B3[0, (no_j-1)*3+2] = -s/L3, c/L3, 0\n",
    "B3[1, (no_j-1)*3], B3[1, (no_j-1)*3+1], B3[1, (no_j-1)*3+2] = -s/L3, c/L3, 1\n",
    "B3[2, (no_j-1)*3], B3[2, (no_j-1)*3+1], B3[2, (no_j-1)*3+2] = c, s, 0\n",
    "\n",
    "display(B3)\n",
    "\n",
    "\n",
    "Ffb3 = sy.Matrix([[L3/(3*EI), -L3/(6*EI), 0],\n",
    "                  [-L3/(6*EI), L3/(3*EI), 0],\n",
    "                  [0, 0, L3/EA]])\n",
    "\n",
    "display(Ffb3)\n",
    "\n",
    "Fsb3 = sy.Matrix([[1/(L3*GA), 1/(L3*GA), 0],\n",
    "                  [1/(L3*GA), 1/(L3*GA), 0],\n",
    "                  [0, 0, 0]])\n",
    "display(Fsb3)\n",
    "\n"
   ]
  },
  {
   "cell_type": "code",
   "execution_count": 7,
   "id": "842ceb2c-9636-4f00-84d5-fcf183456c35",
   "metadata": {},
   "outputs": [
    {
     "data": {
      "text/latex": [
       "$\\displaystyle \\left[\\begin{array}{cccccccccccccccccc}0.0 & 0.0 & 0.0 & 0.0 & 0.0 & 0.0 & 0.0 & 0.0 & 0.0 & 0.5 & 0.0 & 1 & 0.0 & 0.0 & 0.0 & -0.5 & 0.0 & 0\\\\0.0 & 0.0 & 0.0 & 0.0 & 0.0 & 0.0 & 0.0 & 0.0 & 0.0 & 0.5 & 0.0 & 0 & 0.0 & 0.0 & 0.0 & -0.5 & 0.0 & 1\\\\0.0 & 0.0 & 0.0 & 0.0 & 0.0 & 0.0 & 0.0 & 0.0 & 0.0 & 0 & -1 & 0 & 0.0 & 0.0 & 0.0 & 0 & 1 & 0\\end{array}\\right]$"
      ],
      "text/plain": [
       "Matrix([\n",
       "[0.0, 0.0, 0.0, 0.0, 0.0, 0.0, 0.0, 0.0, 0.0, 0.5, 0.0, 1, 0.0, 0.0, 0.0, -0.5, 0.0, 0],\n",
       "[0.0, 0.0, 0.0, 0.0, 0.0, 0.0, 0.0, 0.0, 0.0, 0.5, 0.0, 0, 0.0, 0.0, 0.0, -0.5, 0.0, 1],\n",
       "[0.0, 0.0, 0.0, 0.0, 0.0, 0.0, 0.0, 0.0, 0.0,   0,  -1, 0, 0.0, 0.0, 0.0,    0,   1, 0]])"
      ]
     },
     "metadata": {},
     "output_type": "display_data"
    },
    {
     "data": {
      "text/latex": [
       "$\\displaystyle \\left[\\begin{matrix}2.08333333333333 \\cdot 10^{-8} & -1.04166666666667 \\cdot 10^{-8} & 0\\\\-1.04166666666667 \\cdot 10^{-8} & 2.08333333333333 \\cdot 10^{-8} & 0\\\\0 & 0 & 8.33333333333333 \\cdot 10^{-10}\\end{matrix}\\right]$"
      ],
      "text/plain": [
       "Matrix([\n",
       "[ 2.08333333333333e-8, -1.04166666666667e-8,                    0],\n",
       "[-1.04166666666667e-8,  2.08333333333333e-8,                    0],\n",
       "[                   0,                    0, 8.33333333333333e-10]])"
      ]
     },
     "metadata": {},
     "output_type": "display_data"
    },
    {
     "data": {
      "text/latex": [
       "$\\displaystyle \\left[\\begin{matrix}5.0 \\cdot 10^{-10} & 5.0 \\cdot 10^{-10} & 0\\\\5.0 \\cdot 10^{-10} & 5.0 \\cdot 10^{-10} & 0\\\\0 & 0 & 0\\end{matrix}\\right]$"
      ],
      "text/plain": [
       "Matrix([\n",
       "[5.0e-10, 5.0e-10, 0],\n",
       "[5.0e-10, 5.0e-10, 0],\n",
       "[      0,       0, 0]])"
      ]
     },
     "metadata": {},
     "output_type": "display_data"
    }
   ],
   "source": [
    "# elemento 4\n",
    "s = 1\n",
    "c = 0\n",
    "L4 = 2\n",
    "# Matriz B é 3x18\n",
    "                # u1, w1, th1, u2, w2, th2, u3, w3, th3, u4, w4, th4, u5, w5, th5, u6, w6, th6\n",
    "\n",
    "no_i = 4\n",
    "no_j = 6\n",
    "#B1 = sy.Matrix([[s/L1, -c/L1, 1, 0, 0, 0, -s/L1, c/L1, 0, 0, 0, 0, 0, 0, 0, 0, 0, 0], # u\n",
    "#                [s/L1, -c/L1, 0, 0, 0, 0, -s/L1, c/L1, 1, 0, 0, 0, 0, 0, 0, 0, 0, 0], # w\n",
    "#                [-c, -s, 0, 0, 0, 0,  c, s, 0, 0, 0, 0, 0, 0, 0, 0, 0, 0]]) # Theta\n",
    "B4 = sy.Matrix(np.zeros((3, 18)))\n",
    "B4[0, (no_i-1)*3], B4[0, (no_i-1)*3+1], B4[0, (no_i-1)*3+2] = s/L4, -c/L4, 1\n",
    "B4[1, (no_i-1)*3], B4[1, (no_i-1)*3+1], B4[1, (no_i-1)*3+2] = s/L4, -c/L4, 0\n",
    "B4[2, (no_i-1)*3], B4[2, (no_i-1)*3+1], B4[2, (no_i-1)*3+2] = -c, -s, 0\n",
    "\n",
    "B4[0, (no_j-1)*3], B4[0, (no_j-1)*3+1], B4[0, (no_j-1)*3+2] = -s/L4, c/L4, 0\n",
    "B4[1, (no_j-1)*3], B4[1, (no_j-1)*3+1], B4[1, (no_j-1)*3+2] = -s/L4, c/L4, 1\n",
    "B4[2, (no_j-1)*3], B4[2, (no_j-1)*3+1], B4[2, (no_j-1)*3+2] = c, s, 0\n",
    "\n",
    "display(B4)\n",
    "\n",
    "\n",
    "Ffb4 = sy.Matrix([[L4/(3*EI), -L4/(6*EI), 0],\n",
    "                  [-L4/(6*EI), L4/(3*EI), 0],\n",
    "                  [0, 0, L4/EA]])\n",
    "\n",
    "display(Ffb4)\n",
    "\n",
    "Fsb4 = sy.Matrix([[1/(L4*GA), 1/(L4*GA), 0],\n",
    "                  [1/(L4*GA), 1/(L4*GA), 0],\n",
    "                  [0, 0, 0]])\n",
    "display(Fsb4)\n",
    "\n"
   ]
  },
  {
   "cell_type": "code",
   "execution_count": 8,
   "id": "594749fd-33c9-443f-ace2-6dbec9e4ca52",
   "metadata": {},
   "outputs": [
    {
     "data": {
      "text/latex": [
       "$\\displaystyle \\left[\\begin{array}{cccccccccccccccccc}0.0 & 0.0 & 0.0 & 0.0 & 0.0 & 0.0 & 0.0 & 0.0 & 0.0 & 0.0 & 0.0 & 0.0 & 0.0 & -0.285714285714286 & 1 & 0.0 & 0.285714285714286 & 0\\\\0.0 & 0.0 & 0.0 & 0.0 & 0.0 & 0.0 & 0.0 & 0.0 & 0.0 & 0.0 & 0.0 & 0.0 & 0.0 & -0.285714285714286 & 0 & 0.0 & 0.285714285714286 & 1\\\\0.0 & 0.0 & 0.0 & 0.0 & 0.0 & 0.0 & 0.0 & 0.0 & 0.0 & 0.0 & 0.0 & 0.0 & -1 & 0 & 0 & 1 & 0 & 0\\end{array}\\right]$"
      ],
      "text/plain": [
       "Matrix([\n",
       "[0.0, 0.0, 0.0, 0.0, 0.0, 0.0, 0.0, 0.0, 0.0, 0.0, 0.0, 0.0, 0.0, -0.285714285714286, 1, 0.0, 0.285714285714286, 0],\n",
       "[0.0, 0.0, 0.0, 0.0, 0.0, 0.0, 0.0, 0.0, 0.0, 0.0, 0.0, 0.0, 0.0, -0.285714285714286, 0, 0.0, 0.285714285714286, 1],\n",
       "[0.0, 0.0, 0.0, 0.0, 0.0, 0.0, 0.0, 0.0, 0.0, 0.0, 0.0, 0.0,  -1,                  0, 0,   1,                 0, 0]])"
      ]
     },
     "metadata": {},
     "output_type": "display_data"
    },
    {
     "data": {
      "text/latex": [
       "$\\displaystyle \\left[\\begin{matrix}3.64583333333333 \\cdot 10^{-8} & -1.82291666666667 \\cdot 10^{-8} & 0\\\\-1.82291666666667 \\cdot 10^{-8} & 3.64583333333333 \\cdot 10^{-8} & 0\\\\0 & 0 & 1.45833333333333 \\cdot 10^{-9}\\end{matrix}\\right]$"
      ],
      "text/plain": [
       "Matrix([\n",
       "[ 3.64583333333333e-8, -1.82291666666667e-8,                   0],\n",
       "[-1.82291666666667e-8,  3.64583333333333e-8,                   0],\n",
       "[                   0,                    0, 1.45833333333333e-9]])"
      ]
     },
     "metadata": {},
     "output_type": "display_data"
    },
    {
     "data": {
      "text/latex": [
       "$\\displaystyle \\left[\\begin{matrix}2.85714285714286 \\cdot 10^{-10} & 2.85714285714286 \\cdot 10^{-10} & 0\\\\2.85714285714286 \\cdot 10^{-10} & 2.85714285714286 \\cdot 10^{-10} & 0\\\\0 & 0 & 0\\end{matrix}\\right]$"
      ],
      "text/plain": [
       "Matrix([\n",
       "[2.85714285714286e-10, 2.85714285714286e-10, 0],\n",
       "[2.85714285714286e-10, 2.85714285714286e-10, 0],\n",
       "[                   0,                    0, 0]])"
      ]
     },
     "metadata": {},
     "output_type": "display_data"
    }
   ],
   "source": [
    "# elemento 5\n",
    "s = 0\n",
    "c = 1\n",
    "L5 = 3.5\n",
    "# Matriz B é 3x18\n",
    "                # u1, w1, th1, u2, w2, th2, u3, w3, th3, u4, w4, th4, u5, w5, th5, u6, w6, th6\n",
    "\n",
    "no_i = 5\n",
    "no_j = 6\n",
    "#B1 = sy.Matrix([[s/L1, -c/L1, 1, 0, 0, 0, -s/L1, c/L1, 0, 0, 0, 0, 0, 0, 0, 0, 0, 0], # u\n",
    "#                [s/L1, -c/L1, 0, 0, 0, 0, -s/L1, c/L1, 1, 0, 0, 0, 0, 0, 0, 0, 0, 0], # w\n",
    "#                [-c, -s, 0, 0, 0, 0,  c, s, 0, 0, 0, 0, 0, 0, 0, 0, 0, 0]]) # Theta\n",
    "B5 = sy.Matrix(np.zeros((3, 18)))\n",
    "B5[0, (no_i-1)*3], B5[0, (no_i-1)*3+1], B5[0, (no_i-1)*3+2] = s/L5, -c/L5, 1\n",
    "B5[1, (no_i-1)*3], B5[1, (no_i-1)*3+1], B5[1, (no_i-1)*3+2] = s/L5, -c/L5, 0\n",
    "B5[2, (no_i-1)*3], B5[2, (no_i-1)*3+1], B5[2, (no_i-1)*3+2] = -c, -s, 0\n",
    "\n",
    "B5[0, (no_j-1)*3], B5[0, (no_j-1)*3+1], B5[0, (no_j-1)*3+2] = -s/L5, c/L5, 0\n",
    "B5[1, (no_j-1)*3], B5[1, (no_j-1)*3+1], B5[1, (no_j-1)*3+2] = -s/L5, c/L5, 1\n",
    "B5[2, (no_j-1)*3], B5[2, (no_j-1)*3+1], B5[2, (no_j-1)*3+2] = c, s, 0\n",
    "\n",
    "display(B5)\n",
    "\n",
    "\n",
    "Ffb5 = sy.Matrix([[L5/(3*EI), -L5/(6*EI), 0],\n",
    "                  [-L5/(6*EI), L5/(3*EI), 0],\n",
    "                  [0, 0, L5/EA]])\n",
    "\n",
    "display(Ffb5)\n",
    "\n",
    "Fsb5 = sy.Matrix([[1/(L5*GA), 1/(L5*GA), 0],\n",
    "                  [1/(L5*GA), 1/(L5*GA), 0],\n",
    "                  [0, 0, 0]])\n",
    "display(Fsb5)\n",
    "\n"
   ]
  },
  {
   "cell_type": "code",
   "execution_count": 9,
   "id": "e72351c0-85df-4723-9cce-6feb0e8298b4",
   "metadata": {},
   "outputs": [
    {
     "data": {
      "text/latex": [
       "$\\displaystyle \\left[\\begin{array}{cccccccccccccccccc}0.0 & 0.0 & 0.0 & 0.0 & 0.0 & 0.0 & 0.0 & -0.285714285714286 & 1 & 0.0 & 0.285714285714286 & 0 & 0.0 & 0.0 & 0.0 & 0.0 & 0.0 & 0.0\\\\0.0 & 0.0 & 0.0 & 0.0 & 0.0 & 0.0 & 0.0 & -0.285714285714286 & 0 & 0.0 & 0.285714285714286 & 1 & 0.0 & 0.0 & 0.0 & 0.0 & 0.0 & 0.0\\\\0.0 & 0.0 & 0.0 & 0.0 & 0.0 & 0.0 & -1 & 0 & 0 & 1 & 0 & 0 & 0.0 & 0.0 & 0.0 & 0.0 & 0.0 & 0.0\\end{array}\\right]$"
      ],
      "text/plain": [
       "Matrix([\n",
       "[0.0, 0.0, 0.0, 0.0, 0.0, 0.0, 0.0, -0.285714285714286, 1, 0.0, 0.285714285714286, 0, 0.0, 0.0, 0.0, 0.0, 0.0, 0.0],\n",
       "[0.0, 0.0, 0.0, 0.0, 0.0, 0.0, 0.0, -0.285714285714286, 0, 0.0, 0.285714285714286, 1, 0.0, 0.0, 0.0, 0.0, 0.0, 0.0],\n",
       "[0.0, 0.0, 0.0, 0.0, 0.0, 0.0,  -1,                  0, 0,   1,                 0, 0, 0.0, 0.0, 0.0, 0.0, 0.0, 0.0]])"
      ]
     },
     "metadata": {},
     "output_type": "display_data"
    },
    {
     "data": {
      "text/latex": [
       "$\\displaystyle \\left[\\begin{matrix}3.64583333333333 \\cdot 10^{-8} & -1.82291666666667 \\cdot 10^{-8} & 0\\\\-1.82291666666667 \\cdot 10^{-8} & 3.64583333333333 \\cdot 10^{-8} & 0\\\\0 & 0 & 1.45833333333333 \\cdot 10^{-9}\\end{matrix}\\right]$"
      ],
      "text/plain": [
       "Matrix([\n",
       "[ 3.64583333333333e-8, -1.82291666666667e-8,                   0],\n",
       "[-1.82291666666667e-8,  3.64583333333333e-8,                   0],\n",
       "[                   0,                    0, 1.45833333333333e-9]])"
      ]
     },
     "metadata": {},
     "output_type": "display_data"
    },
    {
     "data": {
      "text/latex": [
       "$\\displaystyle \\left[\\begin{matrix}2.85714285714286 \\cdot 10^{-10} & 2.85714285714286 \\cdot 10^{-10} & 0\\\\2.85714285714286 \\cdot 10^{-10} & 2.85714285714286 \\cdot 10^{-10} & 0\\\\0 & 0 & 0\\end{matrix}\\right]$"
      ],
      "text/plain": [
       "Matrix([\n",
       "[2.85714285714286e-10, 2.85714285714286e-10, 0],\n",
       "[2.85714285714286e-10, 2.85714285714286e-10, 0],\n",
       "[                   0,                    0, 0]])"
      ]
     },
     "metadata": {},
     "output_type": "display_data"
    }
   ],
   "source": [
    "# elemento 6\n",
    "s = 0\n",
    "c = 1\n",
    "L6 = 3.5\n",
    "# Matriz B é 3x18\n",
    "                # u1, w1, th1, u2, w2, th2, u3, w3, th3, u4, w4, th4, u5, w5, th5, u6, w6, th6\n",
    "\n",
    "no_i = 3\n",
    "no_j = 4\n",
    "#B1 = sy.Matrix([[s/L1, -c/L1, 1, 0, 0, 0, -s/L1, c/L1, 0, 0, 0, 0, 0, 0, 0, 0, 0, 0], # u\n",
    "#                [s/L1, -c/L1, 0, 0, 0, 0, -s/L1, c/L1, 1, 0, 0, 0, 0, 0, 0, 0, 0, 0], # w\n",
    "#                [-c, -s, 0, 0, 0, 0,  c, s, 0, 0, 0, 0, 0, 0, 0, 0, 0, 0]]) # Theta\n",
    "B6 = sy.Matrix(np.zeros((3, 18)))\n",
    "B6[0, (no_i-1)*3], B6[0, (no_i-1)*3+1], B6[0, (no_i-1)*3+2] = s/L6, -c/L6, 1\n",
    "B6[1, (no_i-1)*3], B6[1, (no_i-1)*3+1], B6[1, (no_i-1)*3+2] = s/L6, -c/L6, 0\n",
    "B6[2, (no_i-1)*3], B6[2, (no_i-1)*3+1], B6[2, (no_i-1)*3+2] = -c, -s, 0\n",
    "\n",
    "B6[0, (no_j-1)*3], B6[0, (no_j-1)*3+1], B6[0, (no_j-1)*3+2] = -s/L6, c/L6, 0\n",
    "B6[1, (no_j-1)*3], B6[1, (no_j-1)*3+1], B6[1, (no_j-1)*3+2] = -s/L6, c/L6, 1\n",
    "B6[2, (no_j-1)*3], B6[2, (no_j-1)*3+1], B6[2, (no_j-1)*3+2] = c, s, 0\n",
    "\n",
    "display(B6)\n",
    "\n",
    "\n",
    "Ffb6 = sy.Matrix([[L6/(3*EI), -L6/(6*EI), 0],\n",
    "                  [-L6/(6*EI), L6/(3*EI), 0],\n",
    "                  [0, 0, L6/EA]])\n",
    "\n",
    "display(Ffb6)\n",
    "\n",
    "Fsb6 = sy.Matrix([[1/(L6*GA), 1/(L6*GA), 0],\n",
    "                  [1/(L6*GA), 1/(L6*GA), 0],\n",
    "                  [0, 0, 0]])\n",
    "display(Fsb6)\n",
    "\n"
   ]
  },
  {
   "cell_type": "code",
   "execution_count": 10,
   "id": "c2f21926-d887-4145-aaf4-174280a64c4d",
   "metadata": {},
   "outputs": [
    {
     "data": {
      "text/latex": [
       "$\\displaystyle \\left[\\begin{matrix}\\phi_{11} + 0.5 u_{3}\\\\\\phi_{12} - \\theta_{3} + 0.5 u_{3}\\\\\\delta_{1} - w_{3}\\end{matrix}\\right]$"
      ],
      "text/plain": [
       "Matrix([\n",
       "[         phi11 + 0.5*u3],\n",
       "[phi12 - theta3 + 0.5*u3],\n",
       "[            delta1 - w3]])"
      ]
     },
     "metadata": {},
     "output_type": "display_data"
    },
    {
     "data": {
      "text/latex": [
       "$\\displaystyle \\left[\\begin{matrix}\\phi_{22} + 0.5 u_{4}\\\\\\phi_{23} - \\theta_{4} + 0.5 u_{4}\\\\\\delta_{2} - w_{4}\\end{matrix}\\right]$"
      ],
      "text/plain": [
       "Matrix([\n",
       "[         phi22 + 0.5*u4],\n",
       "[phi23 - theta4 + 0.5*u4],\n",
       "[            delta2 - w4]])"
      ]
     },
     "metadata": {},
     "output_type": "display_data"
    },
    {
     "data": {
      "text/latex": [
       "$\\displaystyle \\left[\\begin{matrix}\\phi_{33} - \\theta_{3} - 0.5 u_{3} + 0.5 u_{5}\\\\\\phi_{34} - \\theta_{5} - 0.5 u_{3} + 0.5 u_{5}\\\\\\delta_{3} + w_{3} - w_{5}\\end{matrix}\\right]$"
      ],
      "text/plain": [
       "Matrix([\n",
       "[phi33 - theta3 - 0.5*u3 + 0.5*u5],\n",
       "[phi34 - theta5 - 0.5*u3 + 0.5*u5],\n",
       "[                delta3 + w3 - w5]])"
      ]
     },
     "metadata": {},
     "output_type": "display_data"
    },
    {
     "data": {
      "text/latex": [
       "$\\displaystyle \\left[\\begin{matrix}\\phi_{44} - \\theta_{4} - 0.5 u_{4} + 0.5 u_{6}\\\\\\phi_{45} - \\theta_{6} - 0.5 u_{4} + 0.5 u_{6}\\\\\\delta_{4} + w_{4} - w_{6}\\end{matrix}\\right]$"
      ],
      "text/plain": [
       "Matrix([\n",
       "[phi44 - theta4 - 0.5*u4 + 0.5*u6],\n",
       "[phi45 - theta6 - 0.5*u4 + 0.5*u6],\n",
       "[                delta4 + w4 - w6]])"
      ]
     },
     "metadata": {},
     "output_type": "display_data"
    },
    {
     "data": {
      "text/latex": [
       "$\\displaystyle \\left[\\begin{matrix}\\phi_{55} - \\theta_{5} + 0.285714285714286 w_{5} - 0.285714285714286 w_{6}\\\\\\phi_{56} - \\theta_{6} + 0.285714285714286 w_{5} - 0.285714285714286 w_{6}\\\\\\delta_{5} + u_{5} - u_{6}\\end{matrix}\\right]$"
      ],
      "text/plain": [
       "Matrix([\n",
       "[phi55 - theta5 + 0.285714285714286*w5 - 0.285714285714286*w6],\n",
       "[phi56 - theta6 + 0.285714285714286*w5 - 0.285714285714286*w6],\n",
       "[                                            delta5 + u5 - u6]])"
      ]
     },
     "metadata": {},
     "output_type": "display_data"
    },
    {
     "data": {
      "text/latex": [
       "$\\displaystyle \\left[\\begin{matrix}\\phi_{66} - \\theta_{3} + 0.285714285714286 w_{3} - 0.285714285714286 w_{4}\\\\\\phi_{67} - \\theta_{4} + 0.285714285714286 w_{3} - 0.285714285714286 w_{4}\\\\\\delta_{6} + u_{3} - u_{4}\\end{matrix}\\right]$"
      ],
      "text/plain": [
       "Matrix([\n",
       "[phi66 - theta3 + 0.285714285714286*w3 - 0.285714285714286*w4],\n",
       "[phi67 - theta4 + 0.285714285714286*w3 - 0.285714285714286*w4],\n",
       "[                                            delta6 + u3 - u4]])"
      ]
     },
     "metadata": {},
     "output_type": "display_data"
    }
   ],
   "source": [
    "eqs = []\n",
    "\n",
    "# EC\n",
    "EC1 = Phi1 - B1*U\n",
    "eqs.append(EC1)\n",
    "display(EC1)\n",
    "\n",
    "EC2 = Phi2 - B2*U\n",
    "eqs.append(EC2)\n",
    "display(EC2)\n",
    "\n",
    "EC3 = Phi3 - B3*U\n",
    "eqs.append(EC3)\n",
    "display(EC3)\n",
    "\n",
    "EC4 = Phi4 - B4*U\n",
    "eqs.append(EC4)\n",
    "display(EC4)\n",
    "\n",
    "EC5 = Phi5 - B5*U\n",
    "eqs.append(EC5)\n",
    "display(EC5)\n",
    "\n",
    "EC6 = Phi6 - B6*U\n",
    "eqs.append(EC6)\n",
    "display(EC6)"
   ]
  },
  {
   "cell_type": "code",
   "execution_count": 11,
   "id": "1f0c1e2b-b718-4b2f-ac95-2e3d4a2a7c1b",
   "metadata": {},
   "outputs": [
    {
     "data": {
      "text/latex": [
       "$\\displaystyle \\left[\\begin{matrix}- Ru_{1} + 0.5 m_{11} + 0.5 m_{12}\\\\- Rw_{1} - n_{2}\\\\- RM_{1} + m_{11}\\\\- Ru_{2} + 0.5 m_{22} + 0.5 m_{23}\\\\- Rw_{2} - n_{2}\\\\- RM_{2} + m_{22}\\\\- 0.5 m_{11} - 0.5 m_{12} + 0.5 m_{33} + 0.5 m_{34} - n_{6}\\\\- 0.285714285714286 m_{66} - 0.285714285714286 m_{67} + n_{2} - n_{3}\\\\m_{12} + m_{33} + m_{66}\\\\- 0.5 m_{22} - 0.5 m_{23} + 0.5 m_{44} + 0.5 m_{45} + n_{6}\\\\0.285714285714286 m_{66} + 0.285714285714286 m_{67} + n_{2} - n_{4}\\\\m_{23} + m_{44} + m_{67}\\\\- 0.5 m_{33} - 0.5 m_{34} - n_{5}\\\\- 0.285714285714286 m_{55} - 0.285714285714286 m_{56} + n_{3}\\\\m_{34} + m_{55}\\\\- 0.5 m_{44} - 0.5 m_{45} + n_{5}\\\\0.285714285714286 m_{55} + 0.285714285714286 m_{56} + n_{4}\\\\m_{45} + m_{56}\\end{matrix}\\right]$"
      ],
      "text/plain": [
       "Matrix([\n",
       "[                                -Ru1 + 0.5*m11 + 0.5*m12],\n",
       "[                                               -Rw1 - n2],\n",
       "[                                              -RM1 + m11],\n",
       "[                                -Ru2 + 0.5*m22 + 0.5*m23],\n",
       "[                                               -Rw2 - n2],\n",
       "[                                              -RM2 + m22],\n",
       "[             -0.5*m11 - 0.5*m12 + 0.5*m33 + 0.5*m34 - n6],\n",
       "[-0.285714285714286*m66 - 0.285714285714286*m67 + n2 - n3],\n",
       "[                                         m12 + m33 + m66],\n",
       "[             -0.5*m22 - 0.5*m23 + 0.5*m44 + 0.5*m45 + n6],\n",
       "[ 0.285714285714286*m66 + 0.285714285714286*m67 + n2 - n4],\n",
       "[                                         m23 + m44 + m67],\n",
       "[                                 -0.5*m33 - 0.5*m34 - n5],\n",
       "[     -0.285714285714286*m55 - 0.285714285714286*m56 + n3],\n",
       "[                                               m34 + m55],\n",
       "[                                 -0.5*m44 - 0.5*m45 + n5],\n",
       "[      0.285714285714286*m55 + 0.285714285714286*m56 + n4],\n",
       "[                                               m45 + m56]])"
      ]
     },
     "metadata": {},
     "output_type": "display_data"
    }
   ],
   "source": [
    "# EQ\n",
    "EQ = B1.T*M1 + B2.T*M2 + B3.T*M3 + B4.T*M4 + B5.T*M5 + B6.T*M6  - P\n",
    "display(EQ)\n",
    "eqs.append(EQ)"
   ]
  },
  {
   "cell_type": "code",
   "execution_count": 12,
   "id": "32fb377d-8544-440b-a6e5-6a280214805d",
   "metadata": {},
   "outputs": [
    {
     "data": {
      "text/latex": [
       "$\\displaystyle \\left[\\begin{matrix}- 2.13333333333333 \\cdot 10^{-8} m_{11} + 9.91666666666666 \\cdot 10^{-9} m_{12} + \\phi_{11}\\\\9.91666666666666 \\cdot 10^{-9} m_{11} - 2.13333333333333 \\cdot 10^{-8} m_{12} + \\phi_{12}\\\\\\delta_{1} - 8.33333333333333 \\cdot 10^{-10} n_{2}\\end{matrix}\\right]$"
      ],
      "text/plain": [
       "Matrix([\n",
       "[-2.13333333333333e-8*m11 + 9.91666666666666e-9*m12 + phi11],\n",
       "[ 9.91666666666666e-9*m11 - 2.13333333333333e-8*m12 + phi12],\n",
       "[                          delta1 - 8.33333333333333e-10*n2]])"
      ]
     },
     "metadata": {},
     "output_type": "display_data"
    },
    {
     "data": {
      "text/latex": [
       "$\\displaystyle \\left[\\begin{matrix}- 2.13333333333333 \\cdot 10^{-8} m_{22} + 9.91666666666666 \\cdot 10^{-9} m_{23} + \\phi_{22}\\\\9.91666666666666 \\cdot 10^{-9} m_{22} - 2.13333333333333 \\cdot 10^{-8} m_{23} + \\phi_{23}\\\\\\delta_{2} - 8.33333333333333 \\cdot 10^{-10} n_{2}\\end{matrix}\\right]$"
      ],
      "text/plain": [
       "Matrix([\n",
       "[-2.13333333333333e-8*m22 + 9.91666666666666e-9*m23 + phi22],\n",
       "[ 9.91666666666666e-9*m22 - 2.13333333333333e-8*m23 + phi23],\n",
       "[                          delta2 - 8.33333333333333e-10*n2]])"
      ]
     },
     "metadata": {},
     "output_type": "display_data"
    },
    {
     "data": {
      "text/latex": [
       "$\\displaystyle \\left[\\begin{matrix}- 2.13333333333333 \\cdot 10^{-8} m_{33} + 9.91666666666666 \\cdot 10^{-9} m_{34} + \\phi_{33}\\\\9.91666666666666 \\cdot 10^{-9} m_{33} - 2.13333333333333 \\cdot 10^{-8} m_{34} + \\phi_{34}\\\\\\delta_{3} - 8.33333333333333 \\cdot 10^{-10} n_{3}\\end{matrix}\\right]$"
      ],
      "text/plain": [
       "Matrix([\n",
       "[-2.13333333333333e-8*m33 + 9.91666666666666e-9*m34 + phi33],\n",
       "[ 9.91666666666666e-9*m33 - 2.13333333333333e-8*m34 + phi34],\n",
       "[                          delta3 - 8.33333333333333e-10*n3]])"
      ]
     },
     "metadata": {},
     "output_type": "display_data"
    },
    {
     "data": {
      "text/latex": [
       "$\\displaystyle \\left[\\begin{matrix}- 2.13333333333333 \\cdot 10^{-8} m_{44} + 9.91666666666666 \\cdot 10^{-9} m_{45} + \\phi_{44}\\\\9.91666666666666 \\cdot 10^{-9} m_{44} - 2.13333333333333 \\cdot 10^{-8} m_{45} + \\phi_{45}\\\\\\delta_{4} - 8.33333333333333 \\cdot 10^{-10} n_{4}\\end{matrix}\\right]$"
      ],
      "text/plain": [
       "Matrix([\n",
       "[-2.13333333333333e-8*m44 + 9.91666666666666e-9*m45 + phi44],\n",
       "[ 9.91666666666666e-9*m44 - 2.13333333333333e-8*m45 + phi45],\n",
       "[                          delta4 - 8.33333333333333e-10*n4]])"
      ]
     },
     "metadata": {},
     "output_type": "display_data"
    },
    {
     "data": {
      "text/latex": [
       "$\\displaystyle \\left[\\begin{matrix}- 3.67440476190476 \\cdot 10^{-8} m_{55} + 1.79434523809524 \\cdot 10^{-8} m_{56} + \\phi_{55}\\\\1.79434523809524 \\cdot 10^{-8} m_{55} - 3.67440476190476 \\cdot 10^{-8} m_{56} + \\phi_{56}\\\\\\delta_{5} - 1.45833333333333 \\cdot 10^{-9} n_{5}\\end{matrix}\\right]$"
      ],
      "text/plain": [
       "Matrix([\n",
       "[-3.67440476190476e-8*m55 + 1.79434523809524e-8*m56 + phi55],\n",
       "[ 1.79434523809524e-8*m55 - 3.67440476190476e-8*m56 + phi56],\n",
       "[                           delta5 - 1.45833333333333e-9*n5]])"
      ]
     },
     "metadata": {},
     "output_type": "display_data"
    },
    {
     "data": {
      "text/latex": [
       "$\\displaystyle \\left[\\begin{matrix}- 3.67440476190476 \\cdot 10^{-8} m_{66} + 1.79434523809524 \\cdot 10^{-8} m_{67} + \\phi_{66}\\\\1.79434523809524 \\cdot 10^{-8} m_{66} - 3.67440476190476 \\cdot 10^{-8} m_{67} + \\phi_{67}\\\\\\delta_{6} - 1.45833333333333 \\cdot 10^{-9} n_{6}\\end{matrix}\\right]$"
      ],
      "text/plain": [
       "Matrix([\n",
       "[-3.67440476190476e-8*m66 + 1.79434523809524e-8*m67 + phi66],\n",
       "[ 1.79434523809524e-8*m66 - 3.67440476190476e-8*m67 + phi67],\n",
       "[                           delta6 - 1.45833333333333e-9*n6]])"
      ]
     },
     "metadata": {},
     "output_type": "display_data"
    }
   ],
   "source": [
    "# LC\n",
    "LC1 = Phi1 - (Ffb1 + Fsb1)*M1\n",
    "display(LC1)\n",
    "eqs.append(LC1)\n",
    "\n",
    "LC2 = Phi2 - (Ffb2 + Fsb2)*M2\n",
    "display(LC2)\n",
    "eqs.append(LC2)\n",
    "\n",
    "LC3 = Phi3 - (Ffb3 + Fsb3)*M3\n",
    "display(LC3)\n",
    "eqs.append(LC3)\n",
    "\n",
    "LC4 = Phi4 - (Ffb4 + Fsb4)*M4\n",
    "display(LC4)\n",
    "eqs.append(LC4)\n",
    "\n",
    "LC5 = Phi5 - (Ffb5 + Fsb5)*M5\n",
    "display(LC5)\n",
    "eqs.append(LC5)\n",
    "\n",
    "LC6 = Phi6 - (Ffb6 + Fsb6)*M6\n",
    "display(LC6)\n",
    "eqs.append(LC6)"
   ]
  },
  {
   "cell_type": "code",
   "execution_count": 13,
   "id": "c6b73f93-38e2-4ecb-bea4-9985845e36fd",
   "metadata": {},
   "outputs": [
    {
     "name": "stdout",
     "output_type": "stream",
     "text": [
      "{RM1: 0.0, RM2: 0.0, Ru1: 0.0, Ru2: 0.0, Rw1: 0.0, Rw2: 0.0, delta1: 0.0, delta2: 0.0, delta3: 0.0, delta4: 0.0, delta5: 0.0, delta6: 0.0, m11: 0.0, m12: 0.0, m22: 0.0, m23: 0.0, m33: 0.0, m34: 0.0, m44: 0.0, m45: 0.0, m55: 0.0, m56: 0.0, m66: 0.0, m67: 0.0, n2: 0.0, n3: 0.0, n4: 0.0, n5: 0.0, n6: 0.0, phi11: 0.0, phi12: 0.0, phi22: 0.0, phi23: 0.0, phi33: 0.0, phi34: 0.0, phi44: 0.0, phi45: 0.0, phi55: 0.0, phi56: 0.0, phi66: 0.0, phi67: 0.0, theta3: 0.0, theta4: 0.0, theta5: 0.0, theta6: 0.0, u3: 0.0, u4: 0.0, u5: 0.0, u6: 0.0, w3: 0.0, w4: 0.0, w5: 0.0, w6: 0.0}\n",
      "0.0\n"
     ]
    }
   ],
   "source": [
    "sol = sy.solve(eqs)\n",
    "print(sol)\n",
    "print(sol[RM1])"
   ]
  },
  {
   "cell_type": "code",
   "execution_count": 27,
   "id": "c2449b65-844e-43ee-8b1a-591ff2e8d9c3",
   "metadata": {},
   "outputs": [
    {
     "name": "stdout",
     "output_type": "stream",
     "text": [
      "0.0\n",
      "-3.40234868683394E-7\n",
      "4.13417952512462E-7\n"
     ]
    }
   ],
   "source": [
    "print(f\"{sol[u2]}\\n{sol[w2]}\\n{sol[th2]}\")"
   ]
  },
  {
   "cell_type": "code",
   "execution_count": 30,
   "id": "e6c1109e-e9dc-4836-83c1-93b2cc1d8213",
   "metadata": {},
   "outputs": [
    {
     "name": "stdout",
     "output_type": "stream",
     "text": [
      "-112.562359741035\n",
      "-30.2232841989700\n",
      "30.2232841989700\n",
      "17.8724228676602\n"
     ]
    }
   ],
   "source": [
    "print(f\"{sol[RM1]}\\n{sol[m12]}\\n{sol[m22]}\\n{sol[RM3]}\")"
   ]
  },
  {
   "cell_type": "code",
   "execution_count": 35,
   "id": "b2895f95-383e-40f7-b7fc-0df008aa52e6",
   "metadata": {},
   "outputs": [
    {
     "name": "stdout",
     "output_type": "stream",
     "text": [
      "1.120312e+09\n",
      "7.468750e+09\n"
     ]
    }
   ],
   "source": [
    "print(f\"{L1*GA:e}\\n{L2*GA:e}\")"
   ]
  },
  {
   "cell_type": "code",
   "execution_count": 37,
   "id": "76ee804d-8dea-42b6-8476-2a169ebbf504",
   "metadata": {},
   "outputs": [
    {
     "name": "stdout",
     "output_type": "stream",
     "text": [
      "8.926081e-10\n",
      "1.338912e-10\n"
     ]
    }
   ],
   "source": [
    "print(f\"{1/(L1*GA):e}\\n{1/(L2*GA):e}\")"
   ]
  },
  {
   "cell_type": "code",
   "execution_count": 41,
   "id": "001cce15-459a-41a5-b030-7044c32b4ebc",
   "metadata": {},
   "outputs": [
    {
     "name": "stdout",
     "output_type": "stream",
     "text": [
      "-190.380858586674\n",
      "\n"
     ]
    }
   ],
   "source": [
    "print(f\"{sol[m11]/L1 + sol[m12]/L1}\\n\")"
   ]
  },
  {
   "cell_type": "code",
   "execution_count": 44,
   "id": "2cd4c55c-8b9d-4a3c-b4dd-a6d3c731abb5",
   "metadata": {},
   "outputs": [
    {
     "name": "stdout",
     "output_type": "stream",
     "text": [
      "0\n",
      "\n"
     ]
    }
   ],
   "source": [
    "print(f\"{sol[Rw1]+sol[Rw3]-200}\\n\")"
   ]
  },
  {
   "cell_type": "code",
   "execution_count": 45,
   "id": "27b9c80c-aebf-4354-893c-4b74f0d29824",
   "metadata": {},
   "outputs": [
    {
     "name": "stdout",
     "output_type": "stream",
     "text": [
      "-112.562359741035\n",
      "17.8724228676602\n"
     ]
    }
   ],
   "source": [
    "print(f\"{sol[RM1]}\\n{sol[RM3]}\")"
   ]
  },
  {
   "cell_type": "code",
   "execution_count": 50,
   "id": "4e1de767-d4a2-4750-82f4-0a661f3adb48",
   "metadata": {},
   "outputs": [
    {
     "name": "stdout",
     "output_type": "stream",
     "text": [
      "1.5 10.0\n",
      "\n",
      "\n",
      "-4.53646491577858E-7\n",
      "-4.02285390653960E-8\n",
      "\n",
      "\n",
      "4.81464926249141E-7\n",
      "6.80469737366787E-8\n",
      "\n",
      "\n"
     ]
    }
   ],
   "source": [
    "# Verificar equilíbrio de momentos\n",
    "print(f\"{L1/h} {L2/h}\\n\\n\")\n",
    "\n",
    "print(f\"{sol[phi11]}\\n{sol[phi12]}\\n\\n\")\n",
    "\n",
    "print(f\"{sol[phi22]}\\n{sol[phi23]}\\n\\n\")"
   ]
  },
  {
   "cell_type": "code",
   "execution_count": null,
   "id": "e59ceec7-82e7-4f97-8e30-4ada01f1c6c1",
   "metadata": {},
   "outputs": [],
   "source": []
  }
 ],
 "metadata": {
  "kernelspec": {
   "display_name": "Python 3",
   "language": "python",
   "name": "python3"
  },
  "language_info": {
   "codemirror_mode": {
    "name": "ipython",
    "version": 3
   },
   "file_extension": ".py",
   "mimetype": "text/x-python",
   "name": "python",
   "nbconvert_exporter": "python",
   "pygments_lexer": "ipython3",
   "version": "3.8.8"
  }
 },
 "nbformat": 4,
 "nbformat_minor": 5
}
